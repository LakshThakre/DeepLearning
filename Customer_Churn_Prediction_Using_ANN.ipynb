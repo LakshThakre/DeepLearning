{
 "cells": [
  {
   "cell_type": "code",
   "execution_count": 1,
   "id": "cf28a4c4",
   "metadata": {},
   "outputs": [],
   "source": [
    "import pandas as pd\n",
    "import numpy as np"
   ]
  },
  {
   "cell_type": "code",
   "execution_count": 2,
   "id": "513cbf26",
   "metadata": {},
   "outputs": [],
   "source": [
    "df = pd.read_csv('./Dataset/Churn_Modelling.csv')"
   ]
  },
  {
   "cell_type": "code",
   "execution_count": 3,
   "id": "9456125d",
   "metadata": {},
   "outputs": [
    {
     "data": {
      "text/html": [
       "<div>\n",
       "<style scoped>\n",
       "    .dataframe tbody tr th:only-of-type {\n",
       "        vertical-align: middle;\n",
       "    }\n",
       "\n",
       "    .dataframe tbody tr th {\n",
       "        vertical-align: top;\n",
       "    }\n",
       "\n",
       "    .dataframe thead th {\n",
       "        text-align: right;\n",
       "    }\n",
       "</style>\n",
       "<table border=\"1\" class=\"dataframe\">\n",
       "  <thead>\n",
       "    <tr style=\"text-align: right;\">\n",
       "      <th></th>\n",
       "      <th>RowNumber</th>\n",
       "      <th>CustomerId</th>\n",
       "      <th>Surname</th>\n",
       "      <th>CreditScore</th>\n",
       "      <th>Geography</th>\n",
       "      <th>Gender</th>\n",
       "      <th>Age</th>\n",
       "      <th>Tenure</th>\n",
       "      <th>Balance</th>\n",
       "      <th>NumOfProducts</th>\n",
       "      <th>HasCrCard</th>\n",
       "      <th>IsActiveMember</th>\n",
       "      <th>EstimatedSalary</th>\n",
       "      <th>Exited</th>\n",
       "    </tr>\n",
       "  </thead>\n",
       "  <tbody>\n",
       "    <tr>\n",
       "      <th>0</th>\n",
       "      <td>1</td>\n",
       "      <td>15634602</td>\n",
       "      <td>Hargrave</td>\n",
       "      <td>619</td>\n",
       "      <td>France</td>\n",
       "      <td>Female</td>\n",
       "      <td>42</td>\n",
       "      <td>2</td>\n",
       "      <td>0.00</td>\n",
       "      <td>1</td>\n",
       "      <td>1</td>\n",
       "      <td>1</td>\n",
       "      <td>101348.88</td>\n",
       "      <td>1</td>\n",
       "    </tr>\n",
       "    <tr>\n",
       "      <th>1</th>\n",
       "      <td>2</td>\n",
       "      <td>15647311</td>\n",
       "      <td>Hill</td>\n",
       "      <td>608</td>\n",
       "      <td>Spain</td>\n",
       "      <td>Female</td>\n",
       "      <td>41</td>\n",
       "      <td>1</td>\n",
       "      <td>83807.86</td>\n",
       "      <td>1</td>\n",
       "      <td>0</td>\n",
       "      <td>1</td>\n",
       "      <td>112542.58</td>\n",
       "      <td>0</td>\n",
       "    </tr>\n",
       "    <tr>\n",
       "      <th>2</th>\n",
       "      <td>3</td>\n",
       "      <td>15619304</td>\n",
       "      <td>Onio</td>\n",
       "      <td>502</td>\n",
       "      <td>France</td>\n",
       "      <td>Female</td>\n",
       "      <td>42</td>\n",
       "      <td>8</td>\n",
       "      <td>159660.80</td>\n",
       "      <td>3</td>\n",
       "      <td>1</td>\n",
       "      <td>0</td>\n",
       "      <td>113931.57</td>\n",
       "      <td>1</td>\n",
       "    </tr>\n",
       "    <tr>\n",
       "      <th>3</th>\n",
       "      <td>4</td>\n",
       "      <td>15701354</td>\n",
       "      <td>Boni</td>\n",
       "      <td>699</td>\n",
       "      <td>France</td>\n",
       "      <td>Female</td>\n",
       "      <td>39</td>\n",
       "      <td>1</td>\n",
       "      <td>0.00</td>\n",
       "      <td>2</td>\n",
       "      <td>0</td>\n",
       "      <td>0</td>\n",
       "      <td>93826.63</td>\n",
       "      <td>0</td>\n",
       "    </tr>\n",
       "    <tr>\n",
       "      <th>4</th>\n",
       "      <td>5</td>\n",
       "      <td>15737888</td>\n",
       "      <td>Mitchell</td>\n",
       "      <td>850</td>\n",
       "      <td>Spain</td>\n",
       "      <td>Female</td>\n",
       "      <td>43</td>\n",
       "      <td>2</td>\n",
       "      <td>125510.82</td>\n",
       "      <td>1</td>\n",
       "      <td>1</td>\n",
       "      <td>1</td>\n",
       "      <td>79084.10</td>\n",
       "      <td>0</td>\n",
       "    </tr>\n",
       "  </tbody>\n",
       "</table>\n",
       "</div>"
      ],
      "text/plain": [
       "   RowNumber  CustomerId   Surname  CreditScore Geography  Gender  Age  \\\n",
       "0          1    15634602  Hargrave          619    France  Female   42   \n",
       "1          2    15647311      Hill          608     Spain  Female   41   \n",
       "2          3    15619304      Onio          502    France  Female   42   \n",
       "3          4    15701354      Boni          699    France  Female   39   \n",
       "4          5    15737888  Mitchell          850     Spain  Female   43   \n",
       "\n",
       "   Tenure    Balance  NumOfProducts  HasCrCard  IsActiveMember  \\\n",
       "0       2       0.00              1          1               1   \n",
       "1       1   83807.86              1          0               1   \n",
       "2       8  159660.80              3          1               0   \n",
       "3       1       0.00              2          0               0   \n",
       "4       2  125510.82              1          1               1   \n",
       "\n",
       "   EstimatedSalary  Exited  \n",
       "0        101348.88       1  \n",
       "1        112542.58       0  \n",
       "2        113931.57       1  \n",
       "3         93826.63       0  \n",
       "4         79084.10       0  "
      ]
     },
     "execution_count": 3,
     "metadata": {},
     "output_type": "execute_result"
    }
   ],
   "source": [
    "df.head()"
   ]
  },
  {
   "cell_type": "code",
   "execution_count": 4,
   "id": "252745e6",
   "metadata": {},
   "outputs": [
    {
     "data": {
      "text/html": [
       "<div>\n",
       "<style scoped>\n",
       "    .dataframe tbody tr th:only-of-type {\n",
       "        vertical-align: middle;\n",
       "    }\n",
       "\n",
       "    .dataframe tbody tr th {\n",
       "        vertical-align: top;\n",
       "    }\n",
       "\n",
       "    .dataframe thead th {\n",
       "        text-align: right;\n",
       "    }\n",
       "</style>\n",
       "<table border=\"1\" class=\"dataframe\">\n",
       "  <thead>\n",
       "    <tr style=\"text-align: right;\">\n",
       "      <th></th>\n",
       "      <th>CreditScore</th>\n",
       "      <th>Geography</th>\n",
       "      <th>Gender</th>\n",
       "      <th>Age</th>\n",
       "      <th>Tenure</th>\n",
       "      <th>Balance</th>\n",
       "      <th>NumOfProducts</th>\n",
       "      <th>HasCrCard</th>\n",
       "      <th>IsActiveMember</th>\n",
       "      <th>EstimatedSalary</th>\n",
       "      <th>Exited</th>\n",
       "    </tr>\n",
       "  </thead>\n",
       "  <tbody>\n",
       "    <tr>\n",
       "      <th>0</th>\n",
       "      <td>619</td>\n",
       "      <td>France</td>\n",
       "      <td>Female</td>\n",
       "      <td>42</td>\n",
       "      <td>2</td>\n",
       "      <td>0.00</td>\n",
       "      <td>1</td>\n",
       "      <td>1</td>\n",
       "      <td>1</td>\n",
       "      <td>101348.88</td>\n",
       "      <td>1</td>\n",
       "    </tr>\n",
       "    <tr>\n",
       "      <th>1</th>\n",
       "      <td>608</td>\n",
       "      <td>Spain</td>\n",
       "      <td>Female</td>\n",
       "      <td>41</td>\n",
       "      <td>1</td>\n",
       "      <td>83807.86</td>\n",
       "      <td>1</td>\n",
       "      <td>0</td>\n",
       "      <td>1</td>\n",
       "      <td>112542.58</td>\n",
       "      <td>0</td>\n",
       "    </tr>\n",
       "    <tr>\n",
       "      <th>2</th>\n",
       "      <td>502</td>\n",
       "      <td>France</td>\n",
       "      <td>Female</td>\n",
       "      <td>42</td>\n",
       "      <td>8</td>\n",
       "      <td>159660.80</td>\n",
       "      <td>3</td>\n",
       "      <td>1</td>\n",
       "      <td>0</td>\n",
       "      <td>113931.57</td>\n",
       "      <td>1</td>\n",
       "    </tr>\n",
       "    <tr>\n",
       "      <th>3</th>\n",
       "      <td>699</td>\n",
       "      <td>France</td>\n",
       "      <td>Female</td>\n",
       "      <td>39</td>\n",
       "      <td>1</td>\n",
       "      <td>0.00</td>\n",
       "      <td>2</td>\n",
       "      <td>0</td>\n",
       "      <td>0</td>\n",
       "      <td>93826.63</td>\n",
       "      <td>0</td>\n",
       "    </tr>\n",
       "    <tr>\n",
       "      <th>4</th>\n",
       "      <td>850</td>\n",
       "      <td>Spain</td>\n",
       "      <td>Female</td>\n",
       "      <td>43</td>\n",
       "      <td>2</td>\n",
       "      <td>125510.82</td>\n",
       "      <td>1</td>\n",
       "      <td>1</td>\n",
       "      <td>1</td>\n",
       "      <td>79084.10</td>\n",
       "      <td>0</td>\n",
       "    </tr>\n",
       "  </tbody>\n",
       "</table>\n",
       "</div>"
      ],
      "text/plain": [
       "   CreditScore Geography  Gender  Age  Tenure    Balance  NumOfProducts  \\\n",
       "0          619    France  Female   42       2       0.00              1   \n",
       "1          608     Spain  Female   41       1   83807.86              1   \n",
       "2          502    France  Female   42       8  159660.80              3   \n",
       "3          699    France  Female   39       1       0.00              2   \n",
       "4          850     Spain  Female   43       2  125510.82              1   \n",
       "\n",
       "   HasCrCard  IsActiveMember  EstimatedSalary  Exited  \n",
       "0          1               1        101348.88       1  \n",
       "1          0               1        112542.58       0  \n",
       "2          1               0        113931.57       1  \n",
       "3          0               0         93826.63       0  \n",
       "4          1               1         79084.10       0  "
      ]
     },
     "execution_count": 4,
     "metadata": {},
     "output_type": "execute_result"
    }
   ],
   "source": [
    "df.drop(columns=['RowNumber','CustomerId','Surname'],inplace=True)\n",
    "df.head()"
   ]
  },
  {
   "cell_type": "code",
   "execution_count": 5,
   "id": "27900f0f",
   "metadata": {},
   "outputs": [
    {
     "data": {
      "text/plain": [
       "Gender\n",
       "Male      5457\n",
       "Female    4543\n",
       "Name: count, dtype: int64"
      ]
     },
     "execution_count": 5,
     "metadata": {},
     "output_type": "execute_result"
    }
   ],
   "source": [
    "df['Gender'].value_counts()"
   ]
  },
  {
   "cell_type": "code",
   "execution_count": 6,
   "id": "03263a85",
   "metadata": {},
   "outputs": [
    {
     "data": {
      "text/plain": [
       "Geography\n",
       "France     5014\n",
       "Germany    2509\n",
       "Spain      2477\n",
       "Name: count, dtype: int64"
      ]
     },
     "execution_count": 6,
     "metadata": {},
     "output_type": "execute_result"
    }
   ],
   "source": [
    "df['Geography'].value_counts()"
   ]
  },
  {
   "cell_type": "code",
   "execution_count": 7,
   "id": "95560979",
   "metadata": {},
   "outputs": [
    {
     "data": {
      "text/plain": [
       "CreditScore        0\n",
       "Geography          0\n",
       "Gender             0\n",
       "Age                0\n",
       "Tenure             0\n",
       "Balance            0\n",
       "NumOfProducts      0\n",
       "HasCrCard          0\n",
       "IsActiveMember     0\n",
       "EstimatedSalary    0\n",
       "Exited             0\n",
       "dtype: int64"
      ]
     },
     "execution_count": 7,
     "metadata": {},
     "output_type": "execute_result"
    }
   ],
   "source": [
    "df.isnull().sum()"
   ]
  },
  {
   "cell_type": "code",
   "execution_count": 8,
   "id": "6b33852d",
   "metadata": {},
   "outputs": [],
   "source": [
    "df = pd.get_dummies(df,columns=['Geography','Gender'], drop_first=True,dtype=int)"
   ]
  },
  {
   "cell_type": "code",
   "execution_count": 9,
   "id": "b96509c8",
   "metadata": {},
   "outputs": [],
   "source": [
    "X = df.drop(columns=['Exited'])\n",
    "y = df['Exited']"
   ]
  },
  {
   "cell_type": "code",
   "execution_count": 10,
   "id": "4e1a2cf5",
   "metadata": {},
   "outputs": [],
   "source": [
    "from sklearn.model_selection import train_test_split\n",
    "X_train,X_test,y_train,y_test = train_test_split(X,y,test_size=0.2,random_state=1)"
   ]
  },
  {
   "cell_type": "code",
   "execution_count": 11,
   "id": "fc6fd7f0",
   "metadata": {},
   "outputs": [
    {
     "data": {
      "text/plain": [
       "array([[-0.23082038, -0.94449979, -0.70174202, ...,  1.71490137,\n",
       "        -0.57273139,  0.91509065],\n",
       "       [-0.25150912, -0.94449979, -0.35520275, ..., -0.58312392,\n",
       "        -0.57273139, -1.09278791],\n",
       "       [-0.3963303 ,  0.77498705,  0.33787579, ...,  1.71490137,\n",
       "        -0.57273139, -1.09278791],\n",
       "       ...,\n",
       "       [ 0.22433188,  0.58393295,  1.3774936 , ..., -0.58312392,\n",
       "        -0.57273139, -1.09278791],\n",
       "       [ 0.13123255,  0.01077067,  1.03095433, ..., -0.58312392,\n",
       "        -0.57273139, -1.09278791],\n",
       "       [ 1.1656695 ,  0.29735181,  0.33787579, ...,  1.71490137,\n",
       "        -0.57273139,  0.91509065]], shape=(8000, 11))"
      ]
     },
     "execution_count": 11,
     "metadata": {},
     "output_type": "execute_result"
    }
   ],
   "source": [
    "from sklearn.preprocessing import StandardScaler\n",
    "\n",
    "scaler = StandardScaler()\n",
    "X_train_scaled = scaler.fit_transform(X_train)\n",
    "X_test_scaled = scaler.fit_transform(X_test)\n",
    "\n",
    "X_train_scaled\n"
   ]
  },
  {
   "cell_type": "code",
   "execution_count": 12,
   "id": "00955d49",
   "metadata": {},
   "outputs": [],
   "source": [
    "import tensorflow\n",
    "from tensorflow import keras\n",
    "from tensorflow.keras import Sequential\n",
    "from tensorflow.keras.layers import Dense"
   ]
  },
  {
   "cell_type": "code",
   "execution_count": 13,
   "id": "04d13818",
   "metadata": {},
   "outputs": [
    {
     "name": "stderr",
     "output_type": "stream",
     "text": [
      "c:\\Users\\Laksh Thakre\\Desktop\\DeepLearning\\.env\\Lib\\site-packages\\keras\\src\\layers\\core\\dense.py:92: UserWarning: Do not pass an `input_shape`/`input_dim` argument to a layer. When using Sequential models, prefer using an `Input(shape)` object as the first layer in the model instead.\n",
      "  super().__init__(activity_regularizer=activity_regularizer, **kwargs)\n"
     ]
    }
   ],
   "source": [
    "model = Sequential()\n",
    "\n",
    "model.add(Dense(32,activation='relu',input_dim=11))\n",
    "model.add(Dense(16,activation='relu'))\n",
    "model.add(Dense(1,activation='sigmoid'))"
   ]
  },
  {
   "cell_type": "code",
   "execution_count": 14,
   "id": "bae19093",
   "metadata": {},
   "outputs": [
    {
     "data": {
      "text/html": [
       "<pre style=\"white-space:pre;overflow-x:auto;line-height:normal;font-family:Menlo,'DejaVu Sans Mono',consolas,'Courier New',monospace\"><span style=\"font-weight: bold\">Model: \"sequential\"</span>\n",
       "</pre>\n"
      ],
      "text/plain": [
       "\u001b[1mModel: \"sequential\"\u001b[0m\n"
      ]
     },
     "metadata": {},
     "output_type": "display_data"
    },
    {
     "data": {
      "text/html": [
       "<pre style=\"white-space:pre;overflow-x:auto;line-height:normal;font-family:Menlo,'DejaVu Sans Mono',consolas,'Courier New',monospace\">┏━━━━━━━━━━━━━━━━━━━━━━━━━━━━━━━━━┳━━━━━━━━━━━━━━━━━━━━━━━━┳━━━━━━━━━━━━━━━┓\n",
       "┃<span style=\"font-weight: bold\"> Layer (type)                    </span>┃<span style=\"font-weight: bold\"> Output Shape           </span>┃<span style=\"font-weight: bold\">       Param # </span>┃\n",
       "┡━━━━━━━━━━━━━━━━━━━━━━━━━━━━━━━━━╇━━━━━━━━━━━━━━━━━━━━━━━━╇━━━━━━━━━━━━━━━┩\n",
       "│ dense (<span style=\"color: #0087ff; text-decoration-color: #0087ff\">Dense</span>)                   │ (<span style=\"color: #00d7ff; text-decoration-color: #00d7ff\">None</span>, <span style=\"color: #00af00; text-decoration-color: #00af00\">32</span>)             │           <span style=\"color: #00af00; text-decoration-color: #00af00\">384</span> │\n",
       "├─────────────────────────────────┼────────────────────────┼───────────────┤\n",
       "│ dense_1 (<span style=\"color: #0087ff; text-decoration-color: #0087ff\">Dense</span>)                 │ (<span style=\"color: #00d7ff; text-decoration-color: #00d7ff\">None</span>, <span style=\"color: #00af00; text-decoration-color: #00af00\">16</span>)             │           <span style=\"color: #00af00; text-decoration-color: #00af00\">528</span> │\n",
       "├─────────────────────────────────┼────────────────────────┼───────────────┤\n",
       "│ dense_2 (<span style=\"color: #0087ff; text-decoration-color: #0087ff\">Dense</span>)                 │ (<span style=\"color: #00d7ff; text-decoration-color: #00d7ff\">None</span>, <span style=\"color: #00af00; text-decoration-color: #00af00\">1</span>)              │            <span style=\"color: #00af00; text-decoration-color: #00af00\">17</span> │\n",
       "└─────────────────────────────────┴────────────────────────┴───────────────┘\n",
       "</pre>\n"
      ],
      "text/plain": [
       "┏━━━━━━━━━━━━━━━━━━━━━━━━━━━━━━━━━┳━━━━━━━━━━━━━━━━━━━━━━━━┳━━━━━━━━━━━━━━━┓\n",
       "┃\u001b[1m \u001b[0m\u001b[1mLayer (type)                   \u001b[0m\u001b[1m \u001b[0m┃\u001b[1m \u001b[0m\u001b[1mOutput Shape          \u001b[0m\u001b[1m \u001b[0m┃\u001b[1m \u001b[0m\u001b[1m      Param #\u001b[0m\u001b[1m \u001b[0m┃\n",
       "┡━━━━━━━━━━━━━━━━━━━━━━━━━━━━━━━━━╇━━━━━━━━━━━━━━━━━━━━━━━━╇━━━━━━━━━━━━━━━┩\n",
       "│ dense (\u001b[38;5;33mDense\u001b[0m)                   │ (\u001b[38;5;45mNone\u001b[0m, \u001b[38;5;34m32\u001b[0m)             │           \u001b[38;5;34m384\u001b[0m │\n",
       "├─────────────────────────────────┼────────────────────────┼───────────────┤\n",
       "│ dense_1 (\u001b[38;5;33mDense\u001b[0m)                 │ (\u001b[38;5;45mNone\u001b[0m, \u001b[38;5;34m16\u001b[0m)             │           \u001b[38;5;34m528\u001b[0m │\n",
       "├─────────────────────────────────┼────────────────────────┼───────────────┤\n",
       "│ dense_2 (\u001b[38;5;33mDense\u001b[0m)                 │ (\u001b[38;5;45mNone\u001b[0m, \u001b[38;5;34m1\u001b[0m)              │            \u001b[38;5;34m17\u001b[0m │\n",
       "└─────────────────────────────────┴────────────────────────┴───────────────┘\n"
      ]
     },
     "metadata": {},
     "output_type": "display_data"
    },
    {
     "data": {
      "text/html": [
       "<pre style=\"white-space:pre;overflow-x:auto;line-height:normal;font-family:Menlo,'DejaVu Sans Mono',consolas,'Courier New',monospace\"><span style=\"font-weight: bold\"> Total params: </span><span style=\"color: #00af00; text-decoration-color: #00af00\">929</span> (3.63 KB)\n",
       "</pre>\n"
      ],
      "text/plain": [
       "\u001b[1m Total params: \u001b[0m\u001b[38;5;34m929\u001b[0m (3.63 KB)\n"
      ]
     },
     "metadata": {},
     "output_type": "display_data"
    },
    {
     "data": {
      "text/html": [
       "<pre style=\"white-space:pre;overflow-x:auto;line-height:normal;font-family:Menlo,'DejaVu Sans Mono',consolas,'Courier New',monospace\"><span style=\"font-weight: bold\"> Trainable params: </span><span style=\"color: #00af00; text-decoration-color: #00af00\">929</span> (3.63 KB)\n",
       "</pre>\n"
      ],
      "text/plain": [
       "\u001b[1m Trainable params: \u001b[0m\u001b[38;5;34m929\u001b[0m (3.63 KB)\n"
      ]
     },
     "metadata": {},
     "output_type": "display_data"
    },
    {
     "data": {
      "text/html": [
       "<pre style=\"white-space:pre;overflow-x:auto;line-height:normal;font-family:Menlo,'DejaVu Sans Mono',consolas,'Courier New',monospace\"><span style=\"font-weight: bold\"> Non-trainable params: </span><span style=\"color: #00af00; text-decoration-color: #00af00\">0</span> (0.00 B)\n",
       "</pre>\n"
      ],
      "text/plain": [
       "\u001b[1m Non-trainable params: \u001b[0m\u001b[38;5;34m0\u001b[0m (0.00 B)\n"
      ]
     },
     "metadata": {},
     "output_type": "display_data"
    }
   ],
   "source": [
    "model.summary()"
   ]
  },
  {
   "cell_type": "code",
   "execution_count": 15,
   "id": "0fdafda3",
   "metadata": {},
   "outputs": [],
   "source": [
    "model.compile(loss='binary_crossentropy',optimizer='Adam',metrics=['accuracy'])"
   ]
  },
  {
   "cell_type": "code",
   "execution_count": 16,
   "id": "456369ab",
   "metadata": {},
   "outputs": [
    {
     "name": "stdout",
     "output_type": "stream",
     "text": [
      "Epoch 1/100\n",
      "\u001b[1m200/200\u001b[0m \u001b[32m━━━━━━━━━━━━━━━━━━━━\u001b[0m\u001b[37m\u001b[0m \u001b[1m2s\u001b[0m 4ms/step - accuracy: 0.7997 - loss: 0.4668 - val_accuracy: 0.8112 - val_loss: 0.4313\n",
      "Epoch 2/100\n",
      "\u001b[1m200/200\u001b[0m \u001b[32m━━━━━━━━━━━━━━━━━━━━\u001b[0m\u001b[37m\u001b[0m \u001b[1m1s\u001b[0m 3ms/step - accuracy: 0.8238 - loss: 0.4183 - val_accuracy: 0.8225 - val_loss: 0.4058\n",
      "Epoch 3/100\n",
      "\u001b[1m200/200\u001b[0m \u001b[32m━━━━━━━━━━━━━━━━━━━━\u001b[0m\u001b[37m\u001b[0m \u001b[1m1s\u001b[0m 3ms/step - accuracy: 0.8383 - loss: 0.3979 - val_accuracy: 0.8300 - val_loss: 0.3905\n",
      "Epoch 4/100\n",
      "\u001b[1m200/200\u001b[0m \u001b[32m━━━━━━━━━━━━━━━━━━━━\u001b[0m\u001b[37m\u001b[0m \u001b[1m1s\u001b[0m 3ms/step - accuracy: 0.8444 - loss: 0.3774 - val_accuracy: 0.8469 - val_loss: 0.3616\n",
      "Epoch 5/100\n",
      "\u001b[1m200/200\u001b[0m \u001b[32m━━━━━━━━━━━━━━━━━━━━\u001b[0m\u001b[37m\u001b[0m \u001b[1m1s\u001b[0m 3ms/step - accuracy: 0.8536 - loss: 0.3612 - val_accuracy: 0.8556 - val_loss: 0.3528\n",
      "Epoch 6/100\n",
      "\u001b[1m200/200\u001b[0m \u001b[32m━━━━━━━━━━━━━━━━━━━━\u001b[0m\u001b[37m\u001b[0m \u001b[1m1s\u001b[0m 3ms/step - accuracy: 0.8533 - loss: 0.3526 - val_accuracy: 0.8544 - val_loss: 0.3477\n",
      "Epoch 7/100\n",
      "\u001b[1m200/200\u001b[0m \u001b[32m━━━━━━━━━━━━━━━━━━━━\u001b[0m\u001b[37m\u001b[0m \u001b[1m1s\u001b[0m 3ms/step - accuracy: 0.8570 - loss: 0.3469 - val_accuracy: 0.8519 - val_loss: 0.3467\n",
      "Epoch 8/100\n",
      "\u001b[1m200/200\u001b[0m \u001b[32m━━━━━━━━━━━━━━━━━━━━\u001b[0m\u001b[37m\u001b[0m \u001b[1m1s\u001b[0m 3ms/step - accuracy: 0.8572 - loss: 0.3441 - val_accuracy: 0.8425 - val_loss: 0.3513\n",
      "Epoch 9/100\n",
      "\u001b[1m200/200\u001b[0m \u001b[32m━━━━━━━━━━━━━━━━━━━━\u001b[0m\u001b[37m\u001b[0m \u001b[1m1s\u001b[0m 3ms/step - accuracy: 0.8591 - loss: 0.3423 - val_accuracy: 0.8487 - val_loss: 0.3456\n",
      "Epoch 10/100\n",
      "\u001b[1m200/200\u001b[0m \u001b[32m━━━━━━━━━━━━━━━━━━━━\u001b[0m\u001b[37m\u001b[0m \u001b[1m1s\u001b[0m 3ms/step - accuracy: 0.8597 - loss: 0.3402 - val_accuracy: 0.8500 - val_loss: 0.3454\n",
      "Epoch 11/100\n",
      "\u001b[1m200/200\u001b[0m \u001b[32m━━━━━━━━━━━━━━━━━━━━\u001b[0m\u001b[37m\u001b[0m \u001b[1m1s\u001b[0m 3ms/step - accuracy: 0.8605 - loss: 0.3388 - val_accuracy: 0.8531 - val_loss: 0.3442\n",
      "Epoch 12/100\n",
      "\u001b[1m200/200\u001b[0m \u001b[32m━━━━━━━━━━━━━━━━━━━━\u001b[0m\u001b[37m\u001b[0m \u001b[1m1s\u001b[0m 3ms/step - accuracy: 0.8611 - loss: 0.3370 - val_accuracy: 0.8537 - val_loss: 0.3443\n",
      "Epoch 13/100\n",
      "\u001b[1m200/200\u001b[0m \u001b[32m━━━━━━━━━━━━━━━━━━━━\u001b[0m\u001b[37m\u001b[0m \u001b[1m1s\u001b[0m 3ms/step - accuracy: 0.8609 - loss: 0.3353 - val_accuracy: 0.8469 - val_loss: 0.3439\n",
      "Epoch 14/100\n",
      "\u001b[1m200/200\u001b[0m \u001b[32m━━━━━━━━━━━━━━━━━━━━\u001b[0m\u001b[37m\u001b[0m \u001b[1m1s\u001b[0m 3ms/step - accuracy: 0.8627 - loss: 0.3341 - val_accuracy: 0.8544 - val_loss: 0.3433\n",
      "Epoch 15/100\n",
      "\u001b[1m200/200\u001b[0m \u001b[32m━━━━━━━━━━━━━━━━━━━━\u001b[0m\u001b[37m\u001b[0m \u001b[1m1s\u001b[0m 3ms/step - accuracy: 0.8631 - loss: 0.3330 - val_accuracy: 0.8487 - val_loss: 0.3447\n",
      "Epoch 16/100\n",
      "\u001b[1m200/200\u001b[0m \u001b[32m━━━━━━━━━━━━━━━━━━━━\u001b[0m\u001b[37m\u001b[0m \u001b[1m1s\u001b[0m 3ms/step - accuracy: 0.8639 - loss: 0.3326 - val_accuracy: 0.8494 - val_loss: 0.3448\n",
      "Epoch 17/100\n",
      "\u001b[1m200/200\u001b[0m \u001b[32m━━━━━━━━━━━━━━━━━━━━\u001b[0m\u001b[37m\u001b[0m \u001b[1m1s\u001b[0m 3ms/step - accuracy: 0.8625 - loss: 0.3313 - val_accuracy: 0.8506 - val_loss: 0.3432\n",
      "Epoch 18/100\n",
      "\u001b[1m200/200\u001b[0m \u001b[32m━━━━━━━━━━━━━━━━━━━━\u001b[0m\u001b[37m\u001b[0m \u001b[1m1s\u001b[0m 3ms/step - accuracy: 0.8647 - loss: 0.3298 - val_accuracy: 0.8512 - val_loss: 0.3456\n",
      "Epoch 19/100\n",
      "\u001b[1m200/200\u001b[0m \u001b[32m━━━━━━━━━━━━━━━━━━━━\u001b[0m\u001b[37m\u001b[0m \u001b[1m1s\u001b[0m 3ms/step - accuracy: 0.8656 - loss: 0.3297 - val_accuracy: 0.8519 - val_loss: 0.3427\n",
      "Epoch 20/100\n",
      "\u001b[1m200/200\u001b[0m \u001b[32m━━━━━━━━━━━━━━━━━━━━\u001b[0m\u001b[37m\u001b[0m \u001b[1m1s\u001b[0m 3ms/step - accuracy: 0.8667 - loss: 0.3286 - val_accuracy: 0.8519 - val_loss: 0.3453\n",
      "Epoch 21/100\n",
      "\u001b[1m200/200\u001b[0m \u001b[32m━━━━━━━━━━━━━━━━━━━━\u001b[0m\u001b[37m\u001b[0m \u001b[1m1s\u001b[0m 3ms/step - accuracy: 0.8662 - loss: 0.3271 - val_accuracy: 0.8487 - val_loss: 0.3447\n",
      "Epoch 22/100\n",
      "\u001b[1m200/200\u001b[0m \u001b[32m━━━━━━━━━━━━━━━━━━━━\u001b[0m\u001b[37m\u001b[0m \u001b[1m1s\u001b[0m 3ms/step - accuracy: 0.8652 - loss: 0.3272 - val_accuracy: 0.8487 - val_loss: 0.3426\n",
      "Epoch 23/100\n",
      "\u001b[1m200/200\u001b[0m \u001b[32m━━━━━━━━━━━━━━━━━━━━\u001b[0m\u001b[37m\u001b[0m \u001b[1m1s\u001b[0m 3ms/step - accuracy: 0.8669 - loss: 0.3252 - val_accuracy: 0.8500 - val_loss: 0.3424\n",
      "Epoch 24/100\n",
      "\u001b[1m200/200\u001b[0m \u001b[32m━━━━━━━━━━━━━━━━━━━━\u001b[0m\u001b[37m\u001b[0m \u001b[1m1s\u001b[0m 3ms/step - accuracy: 0.8666 - loss: 0.3250 - val_accuracy: 0.8494 - val_loss: 0.3418\n",
      "Epoch 25/100\n",
      "\u001b[1m200/200\u001b[0m \u001b[32m━━━━━━━━━━━━━━━━━━━━\u001b[0m\u001b[37m\u001b[0m \u001b[1m1s\u001b[0m 3ms/step - accuracy: 0.8692 - loss: 0.3239 - val_accuracy: 0.8494 - val_loss: 0.3409\n",
      "Epoch 26/100\n",
      "\u001b[1m200/200\u001b[0m \u001b[32m━━━━━━━━━━━━━━━━━━━━\u001b[0m\u001b[37m\u001b[0m \u001b[1m1s\u001b[0m 3ms/step - accuracy: 0.8672 - loss: 0.3228 - val_accuracy: 0.8469 - val_loss: 0.3415\n",
      "Epoch 27/100\n",
      "\u001b[1m200/200\u001b[0m \u001b[32m━━━━━━━━━━━━━━━━━━━━\u001b[0m\u001b[37m\u001b[0m \u001b[1m1s\u001b[0m 3ms/step - accuracy: 0.8675 - loss: 0.3218 - val_accuracy: 0.8500 - val_loss: 0.3441\n",
      "Epoch 28/100\n",
      "\u001b[1m200/200\u001b[0m \u001b[32m━━━━━━━━━━━━━━━━━━━━\u001b[0m\u001b[37m\u001b[0m \u001b[1m1s\u001b[0m 3ms/step - accuracy: 0.8694 - loss: 0.3209 - val_accuracy: 0.8475 - val_loss: 0.3426\n",
      "Epoch 29/100\n",
      "\u001b[1m200/200\u001b[0m \u001b[32m━━━━━━━━━━━━━━━━━━━━\u001b[0m\u001b[37m\u001b[0m \u001b[1m1s\u001b[0m 3ms/step - accuracy: 0.8689 - loss: 0.3201 - val_accuracy: 0.8500 - val_loss: 0.3433\n",
      "Epoch 30/100\n",
      "\u001b[1m200/200\u001b[0m \u001b[32m━━━━━━━━━━━━━━━━━━━━\u001b[0m\u001b[37m\u001b[0m \u001b[1m1s\u001b[0m 3ms/step - accuracy: 0.8695 - loss: 0.3197 - val_accuracy: 0.8487 - val_loss: 0.3428\n",
      "Epoch 31/100\n",
      "\u001b[1m200/200\u001b[0m \u001b[32m━━━━━━━━━━━━━━━━━━━━\u001b[0m\u001b[37m\u001b[0m \u001b[1m1s\u001b[0m 3ms/step - accuracy: 0.8691 - loss: 0.3186 - val_accuracy: 0.8487 - val_loss: 0.3421\n",
      "Epoch 32/100\n",
      "\u001b[1m200/200\u001b[0m \u001b[32m━━━━━━━━━━━━━━━━━━━━\u001b[0m\u001b[37m\u001b[0m \u001b[1m1s\u001b[0m 3ms/step - accuracy: 0.8702 - loss: 0.3181 - val_accuracy: 0.8487 - val_loss: 0.3465\n",
      "Epoch 33/100\n",
      "\u001b[1m200/200\u001b[0m \u001b[32m━━━━━━━━━━━━━━━━━━━━\u001b[0m\u001b[37m\u001b[0m \u001b[1m1s\u001b[0m 3ms/step - accuracy: 0.8698 - loss: 0.3173 - val_accuracy: 0.8512 - val_loss: 0.3423\n",
      "Epoch 34/100\n",
      "\u001b[1m200/200\u001b[0m \u001b[32m━━━━━━━━━━━━━━━━━━━━\u001b[0m\u001b[37m\u001b[0m \u001b[1m1s\u001b[0m 3ms/step - accuracy: 0.8695 - loss: 0.3162 - val_accuracy: 0.8469 - val_loss: 0.3459\n",
      "Epoch 35/100\n",
      "\u001b[1m200/200\u001b[0m \u001b[32m━━━━━━━━━━━━━━━━━━━━\u001b[0m\u001b[37m\u001b[0m \u001b[1m1s\u001b[0m 3ms/step - accuracy: 0.8692 - loss: 0.3158 - val_accuracy: 0.8481 - val_loss: 0.3479\n",
      "Epoch 36/100\n",
      "\u001b[1m200/200\u001b[0m \u001b[32m━━━━━━━━━━━━━━━━━━━━\u001b[0m\u001b[37m\u001b[0m \u001b[1m1s\u001b[0m 3ms/step - accuracy: 0.8723 - loss: 0.3144 - val_accuracy: 0.8531 - val_loss: 0.3442\n",
      "Epoch 37/100\n",
      "\u001b[1m200/200\u001b[0m \u001b[32m━━━━━━━━━━━━━━━━━━━━\u001b[0m\u001b[37m\u001b[0m \u001b[1m1s\u001b[0m 3ms/step - accuracy: 0.8719 - loss: 0.3143 - val_accuracy: 0.8487 - val_loss: 0.3467\n",
      "Epoch 38/100\n",
      "\u001b[1m200/200\u001b[0m \u001b[32m━━━━━━━━━━━━━━━━━━━━\u001b[0m\u001b[37m\u001b[0m \u001b[1m1s\u001b[0m 3ms/step - accuracy: 0.8731 - loss: 0.3146 - val_accuracy: 0.8481 - val_loss: 0.3450\n",
      "Epoch 39/100\n",
      "\u001b[1m200/200\u001b[0m \u001b[32m━━━━━━━━━━━━━━━━━━━━\u001b[0m\u001b[37m\u001b[0m \u001b[1m1s\u001b[0m 3ms/step - accuracy: 0.8709 - loss: 0.3136 - val_accuracy: 0.8462 - val_loss: 0.3468\n",
      "Epoch 40/100\n",
      "\u001b[1m200/200\u001b[0m \u001b[32m━━━━━━━━━━━━━━━━━━━━\u001b[0m\u001b[37m\u001b[0m \u001b[1m1s\u001b[0m 3ms/step - accuracy: 0.8702 - loss: 0.3119 - val_accuracy: 0.8469 - val_loss: 0.3523\n",
      "Epoch 41/100\n",
      "\u001b[1m200/200\u001b[0m \u001b[32m━━━━━━━━━━━━━━━━━━━━\u001b[0m\u001b[37m\u001b[0m \u001b[1m1s\u001b[0m 3ms/step - accuracy: 0.8730 - loss: 0.3120 - val_accuracy: 0.8494 - val_loss: 0.3494\n",
      "Epoch 42/100\n",
      "\u001b[1m200/200\u001b[0m \u001b[32m━━━━━━━━━━━━━━━━━━━━\u001b[0m\u001b[37m\u001b[0m \u001b[1m1s\u001b[0m 3ms/step - accuracy: 0.8731 - loss: 0.3113 - val_accuracy: 0.8525 - val_loss: 0.3466\n",
      "Epoch 43/100\n",
      "\u001b[1m200/200\u001b[0m \u001b[32m━━━━━━━━━━━━━━━━━━━━\u001b[0m\u001b[37m\u001b[0m \u001b[1m1s\u001b[0m 3ms/step - accuracy: 0.8714 - loss: 0.3102 - val_accuracy: 0.8494 - val_loss: 0.3500\n",
      "Epoch 44/100\n",
      "\u001b[1m200/200\u001b[0m \u001b[32m━━━━━━━━━━━━━━━━━━━━\u001b[0m\u001b[37m\u001b[0m \u001b[1m1s\u001b[0m 3ms/step - accuracy: 0.8720 - loss: 0.3103 - val_accuracy: 0.8475 - val_loss: 0.3530\n",
      "Epoch 45/100\n",
      "\u001b[1m200/200\u001b[0m \u001b[32m━━━━━━━━━━━━━━━━━━━━\u001b[0m\u001b[37m\u001b[0m \u001b[1m1s\u001b[0m 3ms/step - accuracy: 0.8748 - loss: 0.3089 - val_accuracy: 0.8494 - val_loss: 0.3510\n",
      "Epoch 46/100\n",
      "\u001b[1m200/200\u001b[0m \u001b[32m━━━━━━━━━━━━━━━━━━━━\u001b[0m\u001b[37m\u001b[0m \u001b[1m1s\u001b[0m 3ms/step - accuracy: 0.8723 - loss: 0.3094 - val_accuracy: 0.8438 - val_loss: 0.3500\n",
      "Epoch 47/100\n",
      "\u001b[1m200/200\u001b[0m \u001b[32m━━━━━━━━━━━━━━━━━━━━\u001b[0m\u001b[37m\u001b[0m \u001b[1m1s\u001b[0m 3ms/step - accuracy: 0.8759 - loss: 0.3080 - val_accuracy: 0.8444 - val_loss: 0.3529\n",
      "Epoch 48/100\n",
      "\u001b[1m200/200\u001b[0m \u001b[32m━━━━━━━━━━━━━━━━━━━━\u001b[0m\u001b[37m\u001b[0m \u001b[1m1s\u001b[0m 3ms/step - accuracy: 0.8766 - loss: 0.3066 - val_accuracy: 0.8481 - val_loss: 0.3559\n",
      "Epoch 49/100\n",
      "\u001b[1m200/200\u001b[0m \u001b[32m━━━━━━━━━━━━━━━━━━━━\u001b[0m\u001b[37m\u001b[0m \u001b[1m1s\u001b[0m 3ms/step - accuracy: 0.8730 - loss: 0.3076 - val_accuracy: 0.8462 - val_loss: 0.3527\n",
      "Epoch 50/100\n",
      "\u001b[1m200/200\u001b[0m \u001b[32m━━━━━━━━━━━━━━━━━━━━\u001b[0m\u001b[37m\u001b[0m \u001b[1m1s\u001b[0m 3ms/step - accuracy: 0.8744 - loss: 0.3065 - val_accuracy: 0.8438 - val_loss: 0.3537\n",
      "Epoch 51/100\n",
      "\u001b[1m200/200\u001b[0m \u001b[32m━━━━━━━━━━━━━━━━━━━━\u001b[0m\u001b[37m\u001b[0m \u001b[1m1s\u001b[0m 3ms/step - accuracy: 0.8756 - loss: 0.3060 - val_accuracy: 0.8525 - val_loss: 0.3520\n",
      "Epoch 52/100\n",
      "\u001b[1m200/200\u001b[0m \u001b[32m━━━━━━━━━━━━━━━━━━━━\u001b[0m\u001b[37m\u001b[0m \u001b[1m1s\u001b[0m 3ms/step - accuracy: 0.8756 - loss: 0.3053 - val_accuracy: 0.8506 - val_loss: 0.3529\n",
      "Epoch 53/100\n",
      "\u001b[1m200/200\u001b[0m \u001b[32m━━━━━━━━━━━━━━━━━━━━\u001b[0m\u001b[37m\u001b[0m \u001b[1m1s\u001b[0m 3ms/step - accuracy: 0.8761 - loss: 0.3053 - val_accuracy: 0.8469 - val_loss: 0.3547\n",
      "Epoch 54/100\n",
      "\u001b[1m200/200\u001b[0m \u001b[32m━━━━━━━━━━━━━━━━━━━━\u001b[0m\u001b[37m\u001b[0m \u001b[1m1s\u001b[0m 3ms/step - accuracy: 0.8770 - loss: 0.3044 - val_accuracy: 0.8487 - val_loss: 0.3571\n",
      "Epoch 55/100\n",
      "\u001b[1m200/200\u001b[0m \u001b[32m━━━━━━━━━━━━━━━━━━━━\u001b[0m\u001b[37m\u001b[0m \u001b[1m1s\u001b[0m 3ms/step - accuracy: 0.8747 - loss: 0.3040 - val_accuracy: 0.8500 - val_loss: 0.3583\n",
      "Epoch 56/100\n",
      "\u001b[1m200/200\u001b[0m \u001b[32m━━━━━━━━━━━━━━━━━━━━\u001b[0m\u001b[37m\u001b[0m \u001b[1m1s\u001b[0m 3ms/step - accuracy: 0.8761 - loss: 0.3037 - val_accuracy: 0.8475 - val_loss: 0.3548\n",
      "Epoch 57/100\n",
      "\u001b[1m200/200\u001b[0m \u001b[32m━━━━━━━━━━━━━━━━━━━━\u001b[0m\u001b[37m\u001b[0m \u001b[1m1s\u001b[0m 3ms/step - accuracy: 0.8764 - loss: 0.3040 - val_accuracy: 0.8475 - val_loss: 0.3580\n",
      "Epoch 58/100\n",
      "\u001b[1m200/200\u001b[0m \u001b[32m━━━━━━━━━━━━━━━━━━━━\u001b[0m\u001b[37m\u001b[0m \u001b[1m1s\u001b[0m 3ms/step - accuracy: 0.8761 - loss: 0.3019 - val_accuracy: 0.8500 - val_loss: 0.3547\n",
      "Epoch 59/100\n",
      "\u001b[1m200/200\u001b[0m \u001b[32m━━━━━━━━━━━━━━━━━━━━\u001b[0m\u001b[37m\u001b[0m \u001b[1m1s\u001b[0m 3ms/step - accuracy: 0.8741 - loss: 0.3026 - val_accuracy: 0.8462 - val_loss: 0.3597\n",
      "Epoch 60/100\n",
      "\u001b[1m200/200\u001b[0m \u001b[32m━━━━━━━━━━━━━━━━━━━━\u001b[0m\u001b[37m\u001b[0m \u001b[1m1s\u001b[0m 3ms/step - accuracy: 0.8777 - loss: 0.3020 - val_accuracy: 0.8500 - val_loss: 0.3551\n",
      "Epoch 61/100\n",
      "\u001b[1m200/200\u001b[0m \u001b[32m━━━━━━━━━━━━━━━━━━━━\u001b[0m\u001b[37m\u001b[0m \u001b[1m1s\u001b[0m 3ms/step - accuracy: 0.8750 - loss: 0.3015 - val_accuracy: 0.8469 - val_loss: 0.3596\n",
      "Epoch 62/100\n",
      "\u001b[1m200/200\u001b[0m \u001b[32m━━━━━━━━━━━━━━━━━━━━\u001b[0m\u001b[37m\u001b[0m \u001b[1m1s\u001b[0m 3ms/step - accuracy: 0.8788 - loss: 0.3011 - val_accuracy: 0.8469 - val_loss: 0.3581\n",
      "Epoch 63/100\n",
      "\u001b[1m200/200\u001b[0m \u001b[32m━━━━━━━━━━━━━━━━━━━━\u001b[0m\u001b[37m\u001b[0m \u001b[1m1s\u001b[0m 3ms/step - accuracy: 0.8744 - loss: 0.3005 - val_accuracy: 0.8506 - val_loss: 0.3565\n",
      "Epoch 64/100\n",
      "\u001b[1m200/200\u001b[0m \u001b[32m━━━━━━━━━━━━━━━━━━━━\u001b[0m\u001b[37m\u001b[0m \u001b[1m1s\u001b[0m 3ms/step - accuracy: 0.8764 - loss: 0.3000 - val_accuracy: 0.8519 - val_loss: 0.3618\n",
      "Epoch 65/100\n",
      "\u001b[1m200/200\u001b[0m \u001b[32m━━━━━━━━━━━━━━━━━━━━\u001b[0m\u001b[37m\u001b[0m \u001b[1m1s\u001b[0m 3ms/step - accuracy: 0.8769 - loss: 0.3000 - val_accuracy: 0.8400 - val_loss: 0.3644\n",
      "Epoch 66/100\n",
      "\u001b[1m200/200\u001b[0m \u001b[32m━━━━━━━━━━━━━━━━━━━━\u001b[0m\u001b[37m\u001b[0m \u001b[1m1s\u001b[0m 3ms/step - accuracy: 0.8766 - loss: 0.2998 - val_accuracy: 0.8487 - val_loss: 0.3603\n",
      "Epoch 67/100\n",
      "\u001b[1m200/200\u001b[0m \u001b[32m━━━━━━━━━━━━━━━━━━━━\u001b[0m\u001b[37m\u001b[0m \u001b[1m1s\u001b[0m 3ms/step - accuracy: 0.8781 - loss: 0.2990 - val_accuracy: 0.8500 - val_loss: 0.3631\n",
      "Epoch 68/100\n",
      "\u001b[1m200/200\u001b[0m \u001b[32m━━━━━━━━━━━━━━━━━━━━\u001b[0m\u001b[37m\u001b[0m \u001b[1m1s\u001b[0m 3ms/step - accuracy: 0.8780 - loss: 0.2986 - val_accuracy: 0.8475 - val_loss: 0.3606\n",
      "Epoch 69/100\n",
      "\u001b[1m200/200\u001b[0m \u001b[32m━━━━━━━━━━━━━━━━━━━━\u001b[0m\u001b[37m\u001b[0m \u001b[1m1s\u001b[0m 3ms/step - accuracy: 0.8772 - loss: 0.2972 - val_accuracy: 0.8450 - val_loss: 0.3644\n",
      "Epoch 70/100\n",
      "\u001b[1m200/200\u001b[0m \u001b[32m━━━━━━━━━━━━━━━━━━━━\u001b[0m\u001b[37m\u001b[0m \u001b[1m1s\u001b[0m 3ms/step - accuracy: 0.8759 - loss: 0.2980 - val_accuracy: 0.8512 - val_loss: 0.3585\n",
      "Epoch 71/100\n",
      "\u001b[1m200/200\u001b[0m \u001b[32m━━━━━━━━━━━━━━━━━━━━\u001b[0m\u001b[37m\u001b[0m \u001b[1m1s\u001b[0m 3ms/step - accuracy: 0.8788 - loss: 0.2978 - val_accuracy: 0.8487 - val_loss: 0.3601\n",
      "Epoch 72/100\n",
      "\u001b[1m200/200\u001b[0m \u001b[32m━━━━━━━━━━━━━━━━━━━━\u001b[0m\u001b[37m\u001b[0m \u001b[1m1s\u001b[0m 3ms/step - accuracy: 0.8792 - loss: 0.2967 - val_accuracy: 0.8450 - val_loss: 0.3627\n",
      "Epoch 73/100\n",
      "\u001b[1m200/200\u001b[0m \u001b[32m━━━━━━━━━━━━━━━━━━━━\u001b[0m\u001b[37m\u001b[0m \u001b[1m1s\u001b[0m 3ms/step - accuracy: 0.8802 - loss: 0.2965 - val_accuracy: 0.8450 - val_loss: 0.3649\n",
      "Epoch 74/100\n",
      "\u001b[1m200/200\u001b[0m \u001b[32m━━━━━━━━━━━━━━━━━━━━\u001b[0m\u001b[37m\u001b[0m \u001b[1m1s\u001b[0m 3ms/step - accuracy: 0.8788 - loss: 0.2970 - val_accuracy: 0.8494 - val_loss: 0.3609\n",
      "Epoch 75/100\n",
      "\u001b[1m200/200\u001b[0m \u001b[32m━━━━━━━━━━━━━━━━━━━━\u001b[0m\u001b[37m\u001b[0m \u001b[1m1s\u001b[0m 3ms/step - accuracy: 0.8767 - loss: 0.2956 - val_accuracy: 0.8469 - val_loss: 0.3614\n",
      "Epoch 76/100\n",
      "\u001b[1m200/200\u001b[0m \u001b[32m━━━━━━━━━━━━━━━━━━━━\u001b[0m\u001b[37m\u001b[0m \u001b[1m1s\u001b[0m 3ms/step - accuracy: 0.8798 - loss: 0.2956 - val_accuracy: 0.8456 - val_loss: 0.3639\n",
      "Epoch 77/100\n",
      "\u001b[1m200/200\u001b[0m \u001b[32m━━━━━━━━━━━━━━━━━━━━\u001b[0m\u001b[37m\u001b[0m \u001b[1m1s\u001b[0m 3ms/step - accuracy: 0.8773 - loss: 0.2957 - val_accuracy: 0.8494 - val_loss: 0.3617\n",
      "Epoch 78/100\n",
      "\u001b[1m200/200\u001b[0m \u001b[32m━━━━━━━━━━━━━━━━━━━━\u001b[0m\u001b[37m\u001b[0m \u001b[1m1s\u001b[0m 3ms/step - accuracy: 0.8805 - loss: 0.2949 - val_accuracy: 0.8481 - val_loss: 0.3624\n",
      "Epoch 79/100\n",
      "\u001b[1m200/200\u001b[0m \u001b[32m━━━━━━━━━━━━━━━━━━━━\u001b[0m\u001b[37m\u001b[0m \u001b[1m1s\u001b[0m 3ms/step - accuracy: 0.8781 - loss: 0.2949 - val_accuracy: 0.8469 - val_loss: 0.3650\n",
      "Epoch 80/100\n",
      "\u001b[1m200/200\u001b[0m \u001b[32m━━━━━━━━━━━━━━━━━━━━\u001b[0m\u001b[37m\u001b[0m \u001b[1m1s\u001b[0m 3ms/step - accuracy: 0.8798 - loss: 0.2949 - val_accuracy: 0.8481 - val_loss: 0.3643\n",
      "Epoch 81/100\n",
      "\u001b[1m200/200\u001b[0m \u001b[32m━━━━━━━━━━━━━━━━━━━━\u001b[0m\u001b[37m\u001b[0m \u001b[1m1s\u001b[0m 3ms/step - accuracy: 0.8783 - loss: 0.2937 - val_accuracy: 0.8512 - val_loss: 0.3652\n",
      "Epoch 82/100\n",
      "\u001b[1m200/200\u001b[0m \u001b[32m━━━━━━━━━━━━━━━━━━━━\u001b[0m\u001b[37m\u001b[0m \u001b[1m1s\u001b[0m 3ms/step - accuracy: 0.8781 - loss: 0.2943 - val_accuracy: 0.8462 - val_loss: 0.3649\n",
      "Epoch 83/100\n",
      "\u001b[1m200/200\u001b[0m \u001b[32m━━━━━━━━━━━━━━━━━━━━\u001b[0m\u001b[37m\u001b[0m \u001b[1m1s\u001b[0m 4ms/step - accuracy: 0.8795 - loss: 0.2928 - val_accuracy: 0.8531 - val_loss: 0.3662\n",
      "Epoch 84/100\n",
      "\u001b[1m200/200\u001b[0m \u001b[32m━━━━━━━━━━━━━━━━━━━━\u001b[0m\u001b[37m\u001b[0m \u001b[1m1s\u001b[0m 3ms/step - accuracy: 0.8788 - loss: 0.2929 - val_accuracy: 0.8469 - val_loss: 0.3659\n",
      "Epoch 85/100\n",
      "\u001b[1m200/200\u001b[0m \u001b[32m━━━━━━━━━━━━━━━━━━━━\u001b[0m\u001b[37m\u001b[0m \u001b[1m1s\u001b[0m 3ms/step - accuracy: 0.8792 - loss: 0.2922 - val_accuracy: 0.8512 - val_loss: 0.3678\n",
      "Epoch 86/100\n",
      "\u001b[1m200/200\u001b[0m \u001b[32m━━━━━━━━━━━━━━━━━━━━\u001b[0m\u001b[37m\u001b[0m \u001b[1m1s\u001b[0m 4ms/step - accuracy: 0.8802 - loss: 0.2923 - val_accuracy: 0.8481 - val_loss: 0.3666\n",
      "Epoch 87/100\n",
      "\u001b[1m200/200\u001b[0m \u001b[32m━━━━━━━━━━━━━━━━━━━━\u001b[0m\u001b[37m\u001b[0m \u001b[1m1s\u001b[0m 3ms/step - accuracy: 0.8797 - loss: 0.2927 - val_accuracy: 0.8494 - val_loss: 0.3662\n",
      "Epoch 88/100\n",
      "\u001b[1m200/200\u001b[0m \u001b[32m━━━━━━━━━━━━━━━━━━━━\u001b[0m\u001b[37m\u001b[0m \u001b[1m1s\u001b[0m 3ms/step - accuracy: 0.8786 - loss: 0.2907 - val_accuracy: 0.8481 - val_loss: 0.3675\n",
      "Epoch 89/100\n",
      "\u001b[1m200/200\u001b[0m \u001b[32m━━━━━━━━━━━━━━━━━━━━\u001b[0m\u001b[37m\u001b[0m \u001b[1m1s\u001b[0m 3ms/step - accuracy: 0.8800 - loss: 0.2926 - val_accuracy: 0.8494 - val_loss: 0.3712\n",
      "Epoch 90/100\n",
      "\u001b[1m200/200\u001b[0m \u001b[32m━━━━━━━━━━━━━━━━━━━━\u001b[0m\u001b[37m\u001b[0m \u001b[1m1s\u001b[0m 3ms/step - accuracy: 0.8819 - loss: 0.2917 - val_accuracy: 0.8531 - val_loss: 0.3703\n",
      "Epoch 91/100\n",
      "\u001b[1m200/200\u001b[0m \u001b[32m━━━━━━━━━━━━━━━━━━━━\u001b[0m\u001b[37m\u001b[0m \u001b[1m1s\u001b[0m 3ms/step - accuracy: 0.8780 - loss: 0.2916 - val_accuracy: 0.8481 - val_loss: 0.3713\n",
      "Epoch 92/100\n",
      "\u001b[1m200/200\u001b[0m \u001b[32m━━━━━━━━━━━━━━━━━━━━\u001b[0m\u001b[37m\u001b[0m \u001b[1m1s\u001b[0m 3ms/step - accuracy: 0.8809 - loss: 0.2905 - val_accuracy: 0.8469 - val_loss: 0.3695\n",
      "Epoch 93/100\n",
      "\u001b[1m200/200\u001b[0m \u001b[32m━━━━━━━━━━━━━━━━━━━━\u001b[0m\u001b[37m\u001b[0m \u001b[1m1s\u001b[0m 3ms/step - accuracy: 0.8808 - loss: 0.2902 - val_accuracy: 0.8450 - val_loss: 0.3713\n",
      "Epoch 94/100\n",
      "\u001b[1m200/200\u001b[0m \u001b[32m━━━━━━━━━━━━━━━━━━━━\u001b[0m\u001b[37m\u001b[0m \u001b[1m1s\u001b[0m 3ms/step - accuracy: 0.8797 - loss: 0.2892 - val_accuracy: 0.8475 - val_loss: 0.3737\n",
      "Epoch 95/100\n",
      "\u001b[1m200/200\u001b[0m \u001b[32m━━━━━━━━━━━━━━━━━━━━\u001b[0m\u001b[37m\u001b[0m \u001b[1m1s\u001b[0m 3ms/step - accuracy: 0.8773 - loss: 0.2896 - val_accuracy: 0.8487 - val_loss: 0.3692\n",
      "Epoch 96/100\n",
      "\u001b[1m200/200\u001b[0m \u001b[32m━━━━━━━━━━━━━━━━━━━━\u001b[0m\u001b[37m\u001b[0m \u001b[1m1s\u001b[0m 3ms/step - accuracy: 0.8816 - loss: 0.2887 - val_accuracy: 0.8469 - val_loss: 0.3725\n",
      "Epoch 97/100\n",
      "\u001b[1m200/200\u001b[0m \u001b[32m━━━━━━━━━━━━━━━━━━━━\u001b[0m\u001b[37m\u001b[0m \u001b[1m1s\u001b[0m 3ms/step - accuracy: 0.8806 - loss: 0.2885 - val_accuracy: 0.8450 - val_loss: 0.3726\n",
      "Epoch 98/100\n",
      "\u001b[1m200/200\u001b[0m \u001b[32m━━━━━━━━━━━━━━━━━━━━\u001b[0m\u001b[37m\u001b[0m \u001b[1m1s\u001b[0m 3ms/step - accuracy: 0.8813 - loss: 0.2886 - val_accuracy: 0.8450 - val_loss: 0.3756\n",
      "Epoch 99/100\n",
      "\u001b[1m200/200\u001b[0m \u001b[32m━━━━━━━━━━━━━━━━━━━━\u001b[0m\u001b[37m\u001b[0m \u001b[1m1s\u001b[0m 3ms/step - accuracy: 0.8825 - loss: 0.2883 - val_accuracy: 0.8512 - val_loss: 0.3703\n",
      "Epoch 100/100\n",
      "\u001b[1m200/200\u001b[0m \u001b[32m━━━━━━━━━━━━━━━━━━━━\u001b[0m\u001b[37m\u001b[0m \u001b[1m1s\u001b[0m 3ms/step - accuracy: 0.8808 - loss: 0.2875 - val_accuracy: 0.8487 - val_loss: 0.3743\n"
     ]
    },
    {
     "data": {
      "text/plain": [
       "<keras.src.callbacks.history.History at 0x1fcc07d5d30>"
      ]
     },
     "execution_count": 16,
     "metadata": {},
     "output_type": "execute_result"
    }
   ],
   "source": [
    "model.fit(X_train_scaled,y_train,epochs=100,validation_split=0.2)"
   ]
  },
  {
   "cell_type": "code",
   "execution_count": 17,
   "id": "cd18a943",
   "metadata": {},
   "outputs": [
    {
     "data": {
      "text/plain": [
       "[array([[-0.26126114, -0.13869582, -0.06261855,  0.4462743 ,  0.39041653,\n",
       "         -0.23916364, -0.17894897, -0.13283485,  0.12317178, -0.09090153,\n",
       "         -0.5099065 ,  0.8796517 ,  0.00508276, -0.03960573, -0.2260952 ,\n",
       "          0.03819381,  0.17467207, -0.08480296, -0.1517732 ,  0.21859358,\n",
       "         -0.09292646, -0.1966658 , -0.09949926, -0.09288344,  0.21014178,\n",
       "         -0.16051714,  0.13213408, -0.44437128, -0.5055774 , -0.14501119,\n",
       "          0.57454526, -0.14920591],\n",
       "        [-0.65899944, -0.13928393,  0.6259953 , -0.09236541, -0.16666523,\n",
       "         -0.40220565,  0.08975163,  0.1836568 , -0.57336646, -0.4817003 ,\n",
       "         -0.08513889,  0.09907334,  0.20645091,  0.17168462, -0.02125901,\n",
       "         -0.5376256 ,  0.9473329 , -0.46089667, -0.61558086, -0.19059165,\n",
       "          0.66690934,  0.42421246,  0.266039  , -0.63831663, -0.22403027,\n",
       "         -0.16934961, -0.27786568, -0.34057206,  0.44152194,  0.34634367,\n",
       "         -0.73531747, -0.23426387],\n",
       "        [ 0.14622806,  0.456332  ,  0.28163546,  0.17948517,  0.356934  ,\n",
       "         -0.22227839, -0.40289155,  0.52314425,  0.4954549 ,  0.23726524,\n",
       "         -0.21622558,  0.1305782 ,  0.74938494, -0.0671836 ,  0.09667838,\n",
       "         -0.35770303, -0.13825804, -0.06011648,  0.12081314,  0.00211739,\n",
       "          0.07528169,  0.17439526,  0.27880085,  0.1717359 ,  0.4197992 ,\n",
       "          0.34405738, -0.37180623,  0.09735115, -0.19993961, -0.19819145,\n",
       "         -0.07914889,  0.1260158 ],\n",
       "        [ 0.34261888, -0.2737789 ,  0.17835297, -0.5183939 , -0.6925491 ,\n",
       "          0.18654074, -0.30556926, -0.23754698,  0.1768618 , -0.15217666,\n",
       "          0.15312864,  0.32891834,  0.33938706,  0.31288385,  0.7741459 ,\n",
       "         -0.07137449, -0.6607512 , -0.24738711, -0.49888945, -0.2756114 ,\n",
       "          0.03543882, -0.01478265,  0.16924007,  0.3050329 ,  0.128591  ,\n",
       "         -0.30701196, -0.48517776,  0.14005712, -0.23540065,  0.5089453 ,\n",
       "          0.17514817, -0.2285787 ],\n",
       "        [ 0.09961899, -0.15292236, -0.16578332,  0.11162504, -0.38799512,\n",
       "          0.10198007, -0.1791796 ,  0.02350316,  0.6047042 ,  0.0720976 ,\n",
       "          0.80317265,  0.26045352, -0.30755904,  0.74944663, -0.32948858,\n",
       "         -0.00241549, -0.32038686,  0.02554859,  0.13673382,  0.1936397 ,\n",
       "          0.71541137, -0.15772332, -0.8052479 , -0.16901256,  0.09457553,\n",
       "         -0.2148599 ,  0.7672801 , -0.9048338 , -0.5485051 ,  0.08487777,\n",
       "         -0.30297208, -0.10788354],\n",
       "        [-0.37961155,  0.5080842 ,  0.45679802, -0.47149056, -0.3046471 ,\n",
       "          0.37965053,  0.2704052 ,  0.47503805, -0.3745539 ,  0.19705872,\n",
       "          0.24852397, -0.03688033, -0.50757265, -0.04078687, -0.17237793,\n",
       "         -0.13851431, -0.5226884 ,  0.538639  , -0.3738224 ,  0.23927484,\n",
       "          0.17065449, -0.23916699,  0.04019931,  0.02364074, -0.01410582,\n",
       "          0.18593776, -0.06487075, -0.16416356, -0.08552527,  0.19073047,\n",
       "          0.40856567, -0.3480481 ],\n",
       "        [-0.09204634,  0.08063923,  0.5201027 ,  0.31035325, -0.08621818,\n",
       "          0.5521026 , -0.15430284,  0.0531356 ,  0.0272013 , -0.05476209,\n",
       "          0.21563277,  0.7161453 ,  0.46246794, -0.10364357, -0.1972986 ,\n",
       "         -0.3894264 , -0.06414637,  0.563071  , -0.60398406, -0.26573765,\n",
       "         -0.04683213,  0.65901923, -0.41807497, -0.29188797,  0.16431855,\n",
       "         -0.12342909, -0.47832242,  0.10099139,  0.03023076,  0.40842304,\n",
       "         -0.3936006 ,  0.01203891],\n",
       "        [-0.17769757, -0.21702376,  0.05888474,  0.4422583 ,  0.13416252,\n",
       "          0.26171038,  0.01089261,  0.4848001 ,  0.14101498, -0.13397796,\n",
       "         -0.2065453 ,  0.10685211, -0.24889712,  0.03021913, -0.04683706,\n",
       "          0.09701195,  0.14735866, -0.19913155, -0.5656539 , -0.29254544,\n",
       "         -0.04343545, -0.4340618 , -0.3052978 , -0.27002916, -0.2771766 ,\n",
       "         -0.2618354 ,  0.20126492,  0.4260896 ,  0.50373995,  0.4584926 ,\n",
       "         -0.2330745 , -0.19221132],\n",
       "        [ 0.26088527,  0.14830793,  0.36981767,  0.06853529, -0.24726023,\n",
       "          0.05817623,  0.53840065, -0.0300307 ,  0.10526914,  0.10724039,\n",
       "          0.09496344,  0.13071768,  0.36176556, -0.21103822, -0.25333452,\n",
       "          0.20121776, -0.13654102,  0.04261201, -0.25452718, -0.6729728 ,\n",
       "          0.045989  , -0.14528382, -0.07627934, -0.990035  ,  0.35502106,\n",
       "         -0.28919423,  0.13358472,  0.37898982, -0.05564916, -0.04020536,\n",
       "          0.17971899,  0.15088224],\n",
       "        [ 0.4037499 ,  0.47731397,  0.22164485, -0.20209095,  0.25134495,\n",
       "         -0.33102816, -0.45622143,  0.06139763,  0.36411452, -0.72886807,\n",
       "         -0.19074765,  0.47854263,  0.2714578 ,  0.24099648,  0.00830952,\n",
       "         -0.22411692,  0.22922319,  0.2998303 , -0.27244946,  0.28687277,\n",
       "         -0.02998622,  0.3186712 ,  0.23720467,  0.05741996, -0.6490087 ,\n",
       "          0.2427113 ,  0.23941748,  0.1530097 , -0.19077782, -0.40370572,\n",
       "          0.3538727 ,  0.5328905 ],\n",
       "        [ 0.41355267,  0.40864658, -0.34494427,  0.00888691, -0.08671064,\n",
       "          0.31553793, -0.35969502,  0.37774092, -0.00107143, -0.10661897,\n",
       "         -0.327288  , -0.00381962,  0.34296027, -0.06310996,  0.54878426,\n",
       "          0.02676445, -0.19808035,  0.45614928,  0.02632607,  0.22706307,\n",
       "          0.07750339,  0.21963695, -0.05301004,  0.2835386 ,  0.12090951,\n",
       "          0.48656714, -0.02821742,  0.23383619,  0.62823284, -0.26151678,\n",
       "         -0.01024933, -0.44755888]], dtype=float32),\n",
       " array([ 0.19352013,  0.11507364, -0.5594003 ,  0.43669137, -0.19471312,\n",
       "        -0.2136937 ,  0.2717019 ,  0.2345409 , -0.04867118,  0.3407139 ,\n",
       "        -0.18979543,  0.14237931, -0.3181036 , -0.0735909 , -0.34838116,\n",
       "         0.4480661 , -0.06129811,  0.17474547,  0.43488905,  0.43199864,\n",
       "        -0.22217686, -0.25607505,  0.07266849,  0.14216892,  0.13515945,\n",
       "        -0.27225408,  0.15958175, -0.18600954, -0.17888293,  0.32961172,\n",
       "         0.05544826,  0.21029596], dtype=float32)]"
      ]
     },
     "execution_count": 17,
     "metadata": {},
     "output_type": "execute_result"
    }
   ],
   "source": [
    "# weights and bias of first layer\n",
    "model.layers[0].get_weights()"
   ]
  },
  {
   "cell_type": "code",
   "execution_count": 18,
   "id": "e0da9b1e",
   "metadata": {},
   "outputs": [
    {
     "data": {
      "text/plain": [
       "[array([[-0.17639005,  0.08609121, -0.24941023, -1.0371408 , -0.04523956,\n",
       "         -0.32357585,  0.2897447 , -0.0116211 , -0.11918794,  0.44975927,\n",
       "          0.0511272 ,  0.4448439 , -0.38001227,  0.2149844 , -0.29194075,\n",
       "          0.3885179 ],\n",
       "        [ 0.53187627, -0.26847827,  0.22113663, -0.85540813,  0.4284444 ,\n",
       "         -0.4833295 ,  0.29232252, -0.07761745,  0.28218386, -0.15996045,\n",
       "         -0.18024164, -0.02952261,  0.20359027,  0.2639498 , -0.07580049,\n",
       "          0.39576188],\n",
       "        [-0.546544  , -0.28787956,  0.43563455, -0.28716347,  0.49423867,\n",
       "         -0.17568691, -0.6314765 ,  0.35388643,  0.49674472, -0.15920338,\n",
       "         -0.9236007 , -0.5773345 ,  0.7226446 , -0.16861007, -0.4948592 ,\n",
       "          0.3104791 ],\n",
       "        [ 0.44006512,  0.13273299,  0.2157398 ,  0.4136455 ,  0.24548353,\n",
       "         -0.6913196 ,  0.22464025,  0.2986803 ,  0.1051411 , -0.17013597,\n",
       "         -0.03064517,  0.35106263,  0.2389002 , -0.35853288, -0.29095536,\n",
       "          0.20982206],\n",
       "        [-0.07535361, -0.42632574, -0.22680652,  0.06608053, -0.6626075 ,\n",
       "          0.02566017,  0.02248385, -0.20896582,  0.55980235,  0.05690154,\n",
       "          0.18346302,  0.3187176 , -1.1415827 , -0.0937525 ,  0.22365811,\n",
       "         -0.29869142],\n",
       "        [ 0.6249374 ,  0.7368279 ,  0.24010098,  0.3044627 ,  0.05092592,\n",
       "         -0.40714929,  0.38766235,  0.13390239,  0.29242316,  0.20212634,\n",
       "          0.01163274,  0.30526373,  0.22783534, -0.12498587, -0.07868309,\n",
       "         -0.17081083],\n",
       "        [-0.21594562, -0.53879553, -0.39398202,  0.03475377,  0.02949985,\n",
       "          0.40677708,  0.18016076, -0.27832708, -0.00291455, -0.6259457 ,\n",
       "          0.33303466,  0.1330022 ,  0.26405874, -0.22390123,  0.25314742,\n",
       "         -0.18531373],\n",
       "        [-1.6142298 ,  0.06476467,  0.4166    ,  0.6658499 ,  0.15740247,\n",
       "          0.22442397,  0.25630152, -0.11385066, -0.23517284,  0.03139506,\n",
       "         -0.43946227,  0.01420197, -0.09413812, -0.36531442,  0.06109701,\n",
       "         -0.01782161],\n",
       "        [-0.4195914 ,  0.26254544,  0.15990582, -0.07546276, -0.10848527,\n",
       "         -0.68636334, -0.15412262,  0.13653436, -0.41276398,  0.46568936,\n",
       "          0.522059  , -0.17560996, -0.00243522, -0.02940334, -0.5981995 ,\n",
       "         -0.3949216 ],\n",
       "        [-0.03683769, -0.05952167, -0.2045409 , -0.19171813,  0.29719812,\n",
       "         -0.14424309,  0.3378779 , -0.17697465, -0.16765758,  0.27699336,\n",
       "         -0.37893665,  0.26258427,  0.04248645, -0.26976138, -0.55970377,\n",
       "          0.29251269],\n",
       "        [ 0.550505  ,  0.5229467 , -0.2785253 ,  0.30333814, -0.0264986 ,\n",
       "         -0.06362527, -0.21335928, -0.3758307 ,  0.06612143,  0.0822459 ,\n",
       "          0.3839577 ,  0.58649176,  0.3556739 ,  0.07765865,  0.09445167,\n",
       "         -0.2852719 ],\n",
       "        [ 0.37480065,  0.38232946,  0.39329648,  0.35301727, -0.02658836,\n",
       "          0.66298157, -0.02024383,  0.21460228,  0.04078819,  0.225185  ,\n",
       "          0.23316456, -0.02615451, -0.25584367,  0.34032834, -0.1344415 ,\n",
       "          0.09516881],\n",
       "        [-0.12802371, -0.0080245 ,  0.4446323 ,  0.39137113,  0.38381797,\n",
       "          0.42532155, -0.12762776,  0.3271483 , -0.2705253 , -0.18722779,\n",
       "         -0.18025002,  0.19129635, -0.43442148,  0.26796547,  0.13390234,\n",
       "          0.21464439],\n",
       "        [ 0.34824932,  0.41713974, -0.5349668 ,  0.31562835, -0.23554868,\n",
       "          0.74138075,  0.10063913, -0.21395956,  0.15621723,  0.6284878 ,\n",
       "          0.42921597,  0.462699  , -0.13942957,  0.46393478, -0.06499139,\n",
       "         -0.23547457],\n",
       "        [-0.42732307, -0.8290581 ,  0.3863838 , -0.5788363 ,  0.05722329,\n",
       "          0.440773  ,  0.05612084,  0.25660327, -0.5349452 , -0.22780019,\n",
       "          0.09911438,  0.07820268,  0.03243443,  0.3919048 ,  0.11114127,\n",
       "          0.11093235],\n",
       "        [ 0.27234346,  0.02568732, -0.24877052, -0.5099279 ,  0.25965515,\n",
       "         -0.62895113,  0.20436671, -0.38141352,  0.34116063, -0.11767878,\n",
       "          0.3514854 , -0.3213506 , -0.33350658, -0.52568275, -0.2459941 ,\n",
       "         -0.04302191],\n",
       "        [-0.16952151, -0.9355811 ,  0.5107576 ,  0.3734782 ,  0.26916414,\n",
       "          0.23611352, -0.41549873,  0.10415875,  0.3472084 , -0.04839028,\n",
       "          0.00602304, -0.47835466,  0.23285192, -0.5092381 ,  0.09659508,\n",
       "         -0.08150829],\n",
       "        [-0.00735955,  0.24995695,  0.45454752, -0.437536  ,  0.3067854 ,\n",
       "         -0.00688627,  0.2672537 ,  0.36737156,  0.5257466 , -0.29858696,\n",
       "         -0.74343026,  0.30661833,  0.0258152 ,  0.5754167 ,  0.11012319,\n",
       "         -0.00216059],\n",
       "        [-0.52331495,  0.14276917,  0.32327762, -0.44497368, -0.07758129,\n",
       "         -0.28780267,  0.2741695 , -0.14030746,  0.21087316, -0.4107192 ,\n",
       "         -0.3607514 , -0.37100855,  0.07433744,  0.24704196,  0.24632034,\n",
       "         -0.03540886],\n",
       "        [-0.74895626,  0.3964749 , -0.05790244, -0.13802607,  0.15328392,\n",
       "          0.23616295,  0.2294577 ,  0.43270823,  0.44188294, -0.18424828,\n",
       "         -0.00280352,  0.27841574,  0.4328727 , -0.6901471 ,  0.15631211,\n",
       "          0.32894763],\n",
       "        [-0.35056517,  0.2521568 , -0.03506941,  0.07500906,  0.15515001,\n",
       "          0.04781497, -0.4046136 ,  0.44467828, -0.61039436,  0.4676859 ,\n",
       "          0.3986405 , -0.5480669 ,  0.40725973, -0.04164329, -0.5135058 ,\n",
       "          0.05717062],\n",
       "        [-0.22823422, -0.02918869,  0.09496997, -0.61709833, -0.1659632 ,\n",
       "         -0.74407893, -0.44600895,  0.32646757,  0.510465  ,  0.15743694,\n",
       "         -0.2755192 , -0.03697123,  0.25447503,  0.3827544 ,  0.30669984,\n",
       "          0.2744127 ],\n",
       "        [-0.7530978 , -0.70409197,  0.03367103,  0.3254071 , -0.19740298,\n",
       "          0.5469481 , -0.10834964, -0.53539073, -0.08011652,  0.21439882,\n",
       "          0.26842803, -0.39784703, -0.05032111,  0.42285168,  0.30028158,\n",
       "          0.186386  ],\n",
       "        [-0.98859584, -0.3741741 ,  0.2091526 , -1.1700696 ,  0.334463  ,\n",
       "         -0.47237062,  0.3560153 , -0.34800467, -0.5894217 ,  0.32723433,\n",
       "         -0.17524366, -0.22613883,  0.08565152,  0.4653959 , -0.5132101 ,\n",
       "          0.27385077],\n",
       "        [-0.24795762, -0.09012789, -0.23284727,  0.5237778 , -0.11101202,\n",
       "          0.27068096,  0.29635057, -0.47851327,  0.17840767, -0.24819854,\n",
       "         -0.02362209, -0.24416326,  0.02103189, -0.4005142 ,  0.37815842,\n",
       "          0.34456277],\n",
       "        [-0.4580883 , -0.12985899, -0.08689007,  0.31553736, -0.36868244,\n",
       "          0.45507562,  0.07552305, -0.35878167,  0.25047356,  0.5208814 ,\n",
       "          0.84465164, -0.40333894, -0.5864581 ,  0.01716276,  0.36819047,\n",
       "         -0.30564433],\n",
       "        [ 0.1268423 ,  0.12512055,  0.4196938 ,  0.1294438 ,  0.37759072,\n",
       "          0.19515058,  0.4265001 ,  0.3512871 , -0.49904737,  0.40227887,\n",
       "          0.26223966, -0.18032798, -0.00806176,  0.20018592, -0.7666768 ,\n",
       "          0.28263623],\n",
       "        [-0.3657141 , -2.1411397 , -0.51805854, -0.21055634, -0.4593318 ,\n",
       "         -0.15390745, -0.07135326, -0.40666848,  0.62767136, -0.03054674,\n",
       "         -0.4226342 ,  0.07934097,  0.17665927,  0.18287735,  0.07746481,\n",
       "         -0.37565285],\n",
       "        [-0.56520706,  0.12775877,  0.19712745,  0.03604447,  0.01315903,\n",
       "          0.12489912, -0.1604206 , -0.31474683, -0.11601991, -1.0689794 ,\n",
       "          0.40662083, -0.07139459,  0.6097801 , -0.4004957 ,  0.5880684 ,\n",
       "          0.13199957],\n",
       "        [ 0.15072928, -0.65990406, -0.25519255,  0.41840452, -0.34179348,\n",
       "         -0.3236515 ,  0.27316284,  0.36967108, -0.2144178 , -0.3086723 ,\n",
       "         -0.15338069,  0.09370808,  0.09081376,  0.31353995,  0.3735916 ,\n",
       "          0.3110089 ],\n",
       "        [ 0.32410112, -0.14403301, -0.4362818 , -0.4516381 ,  0.13602978,\n",
       "         -0.53329605, -0.2327018 ,  0.2267231 ,  0.3359958 , -0.8612522 ,\n",
       "         -0.4096479 ,  0.30250752, -0.00384931,  0.13531272, -0.0654124 ,\n",
       "         -0.22911513],\n",
       "        [-0.31388924, -0.12872201, -0.02992713, -0.03371496,  0.02838683,\n",
       "         -0.25316617, -0.06749836, -0.22674404, -0.01898735, -0.49680597,\n",
       "         -0.12796202,  0.6772789 , -0.16447057, -0.4227891 ,  0.01849975,\n",
       "          0.25819084]], dtype=float32),\n",
       " array([ 0.13042167, -0.22597621,  0.15682866, -0.00372479,  0.1977755 ,\n",
       "         0.06245098,  0.5177795 ,  0.1574945 , -0.27803078, -0.25672275,\n",
       "        -0.1076873 ,  0.39679492,  0.2385314 , -0.22320865,  0.0104528 ,\n",
       "         0.27099416], dtype=float32)]"
      ]
     },
     "execution_count": 18,
     "metadata": {},
     "output_type": "execute_result"
    }
   ],
   "source": [
    "# weights and bias of second layer\n",
    "model.layers[1].get_weights()"
   ]
  },
  {
   "cell_type": "code",
   "execution_count": 19,
   "id": "1154ccfb",
   "metadata": {},
   "outputs": [
    {
     "name": "stdout",
     "output_type": "stream",
     "text": [
      "\u001b[1m63/63\u001b[0m \u001b[32m━━━━━━━━━━━━━━━━━━━━\u001b[0m\u001b[37m\u001b[0m \u001b[1m0s\u001b[0m 3ms/step\n"
     ]
    }
   ],
   "source": [
    "y_log = model.predict(X_test_scaled)"
   ]
  },
  {
   "cell_type": "code",
   "execution_count": 20,
   "id": "98d12c11",
   "metadata": {},
   "outputs": [],
   "source": [
    "y_pred = np.where(y_log>0.5 ,1,0)"
   ]
  },
  {
   "cell_type": "code",
   "execution_count": 21,
   "id": "bd65fb71",
   "metadata": {},
   "outputs": [
    {
     "data": {
      "text/plain": [
       "0.8585"
      ]
     },
     "execution_count": 21,
     "metadata": {},
     "output_type": "execute_result"
    }
   ],
   "source": [
    "from sklearn.metrics import accuracy_score\n",
    "accuracy_score(y_test,y_pred)"
   ]
  },
  {
   "cell_type": "code",
   "execution_count": null,
   "id": "d2bcf456",
   "metadata": {},
   "outputs": [],
   "source": []
  }
 ],
 "metadata": {
  "kernelspec": {
   "display_name": ".env",
   "language": "python",
   "name": "python3"
  },
  "language_info": {
   "codemirror_mode": {
    "name": "ipython",
    "version": 3
   },
   "file_extension": ".py",
   "mimetype": "text/x-python",
   "name": "python",
   "nbconvert_exporter": "python",
   "pygments_lexer": "ipython3",
   "version": "3.13.7"
  }
 },
 "nbformat": 4,
 "nbformat_minor": 5
}
